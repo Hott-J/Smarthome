{
 "cells": [
  {
   "cell_type": "code",
   "execution_count": null,
   "metadata": {},
   "outputs": [],
   "source": [
    "from flask import Flask\n",
    "app=Flask(__name__)\n",
    "\n",
    "@app.route(\"/\")\n",
    "def hello():\n",
    "    return \"Hello World!\"\n",
    "\n",
    "if __name__==\"__main__\":\n",
    "    app.run()"
   ]
  },
  {
   "cell_type": "code",
   "execution_count": null,
   "metadata": {},
   "outputs": [
    {
     "name": "stdout",
     "output_type": "stream",
     "text": [
      " * Serving Flask app \"__main__\" (lazy loading)\n",
      " * Environment: production\n",
      "   WARNING: Do not use the development server in a production environment.\n",
      "   Use a production WSGI server instead.\n",
      " * Debug mode: off\n"
     ]
    },
    {
     "name": "stderr",
     "output_type": "stream",
     "text": [
      " * Running on http://127.0.0.1:5000/ (Press CTRL+C to quit)\n"
     ]
    }
   ],
   "source": [
    "from flask import Flask, render_template, redirect, request, url_for\n",
    "app = Flask(__name__)\n",
    " \n",
    "@app.route('/')\n",
    "@app.route('/<int:num>')\n",
    "def inputTest(num=None):\n",
    "    return render_template('main.html', num=num)\n",
    "    \n",
    "@app.route('/calculate',methods=['POST'])\n",
    "def calculate(num=None):\n",
    "    if request.method == 'POST':\n",
    "        temp = request.form['num']\n",
    "    else:\n",
    "        temp = None\n",
    "    return redirect(url_for('inputTest',num=temp))\n",
    " \n",
    "if __name__ == '__main__':\n",
    "    app.run()"
   ]
  },
  {
   "cell_type": "code",
   "execution_count": 1,
   "metadata": {},
   "outputs": [
    {
     "data": {
      "text/html": [
       "\n",
       "<!DOCTYPE html>\n",
       "<html>\n",
       "<head>\n",
       "    <title>\n",
       "        Flask #2\n",
       "    </title>\n",
       "</head>\n",
       "<body>\n",
       "    <form method=\"POST\" action=\"/calculate\">\n",
       "        <h1> Flask #2_데이터 입력받기 </h1>\n",
       "        <h3> 사용자가 원하는 구구단을 출력하자!</br></h3>\n",
       "        <h5> 출력하고자 하는 구구단을 입력하세요.</h5>\n",
       "        <input type=\"text\" name=\"num\">\n",
       "        <button type=\"submit\">구구단 확인하기</button>\n",
       "    </form>\n",
       "    <div>\n",
       "        <p>\n",
       "            {% if num == None %}\n",
       "                <h5> 아직 아무 숫자도 입력이 안되었습니다. </h5>\n",
       "            {% else %}\n",
       "                {% for i in range(1,10) %}\n",
       "                    <p>{{num}} x {{i}} = {{num*i}}</br></p>\n",
       "                {% endfor %}\n",
       "            {% endif %}\n",
       "        </p>\n",
       "    </div>\n",
       "</body>\n",
       "</html>\n"
      ],
      "text/plain": [
       "<IPython.core.display.HTML object>"
      ]
     },
     "metadata": {},
     "output_type": "display_data"
    }
   ],
   "source": [
    "%%html\n",
    "\n",
    "<!DOCTYPE html>\n",
    "<html>\n",
    "<head>\n",
    "    <title>\n",
    "        Flask #2\n",
    "    </title>\n",
    "</head>\n",
    "<body>\n",
    "    <form method=\"POST\" action=\"/calculate\">\n",
    "        <h1> Flask #2_데이터 입력받기 </h1>\n",
    "        <h3> 사용자가 원하는 구구단을 출력하자!</br></h3>\n",
    "        <h5> 출력하고자 하는 구구단을 입력하세요.</h5>\n",
    "        <input type=\"text\" name=\"num\">\n",
    "        <button type=\"submit\">구구단 확인하기</button>\n",
    "    </form>\n",
    "    <div>\n",
    "        <p>\n",
    "            {% if num == None %}\n",
    "                <h5> 아직 아무 숫자도 입력이 안되었습니다. </h5>\n",
    "            {% else %}\n",
    "                {% for i in range(1,10) %}\n",
    "                    <p>{{num}} x {{i}} = {{num*i}}</br></p>\n",
    "                {% endfor %}\n",
    "            {% endif %}\n",
    "        </p>\n",
    "    </div>\n",
    "</body>\n",
    "</html>"
   ]
  },
  {
   "cell_type": "code",
   "execution_count": null,
   "metadata": {},
   "outputs": [],
   "source": []
  }
 ],
 "metadata": {
  "kernelspec": {
   "display_name": "Python 3",
   "language": "python",
   "name": "python3"
  },
  "language_info": {
   "codemirror_mode": {
    "name": "ipython",
    "version": 3
   },
   "file_extension": ".py",
   "mimetype": "text/x-python",
   "name": "python",
   "nbconvert_exporter": "python",
   "pygments_lexer": "ipython3",
   "version": "3.7.1"
  }
 },
 "nbformat": 4,
 "nbformat_minor": 2
}
